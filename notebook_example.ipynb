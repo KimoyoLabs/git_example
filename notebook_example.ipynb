{
 "cells": [
  {
   "cell_type": "code",
   "execution_count": 2,
   "metadata": {},
   "outputs": [],
   "source": [
    "import numpy as np\n",
    "import pandas as pd\n",
    "import matplotlib.pyplot as plt\n",
    "import seaborn as sns\n",
    "%matplotlib inline"
   ]
  },
  {
   "cell_type": "markdown",
   "metadata": {},
   "source": [
    "# Example of using numpy, pandas, and matplotlib\n",
    "\n",
    "## Creating dataframe"
   ]
  },
  {
   "cell_type": "code",
   "execution_count": 3,
   "metadata": {},
   "outputs": [
    {
     "data": {
      "text/html": [
       "<div>\n",
       "<style scoped>\n",
       "    .dataframe tbody tr th:only-of-type {\n",
       "        vertical-align: middle;\n",
       "    }\n",
       "\n",
       "    .dataframe tbody tr th {\n",
       "        vertical-align: top;\n",
       "    }\n",
       "\n",
       "    .dataframe thead th {\n",
       "        text-align: right;\n",
       "    }\n",
       "</style>\n",
       "<table border=\"1\" class=\"dataframe\">\n",
       "  <thead>\n",
       "    <tr style=\"text-align: right;\">\n",
       "      <th></th>\n",
       "      <th>A</th>\n",
       "      <th>B</th>\n",
       "      <th>C</th>\n",
       "      <th>D</th>\n",
       "    </tr>\n",
       "  </thead>\n",
       "  <tbody>\n",
       "    <tr>\n",
       "      <th>0</th>\n",
<<<<<<< HEAD
       "      <td>0.787967</td>\n",
       "      <td>0.340196</td>\n",
       "      <td>0.179449</td>\n",
       "      <td>0.268063</td>\n",
       "    </tr>\n",
       "    <tr>\n",
       "      <th>1</th>\n",
       "      <td>0.303316</td>\n",
       "      <td>0.288035</td>\n",
       "      <td>1.198626</td>\n",
       "      <td>0.087366</td>\n",
       "    </tr>\n",
       "    <tr>\n",
       "      <th>2</th>\n",
       "      <td>0.443635</td>\n",
       "      <td>1.991368</td>\n",
       "      <td>3.813744</td>\n",
       "      <td>0.883440</td>\n",
       "    </tr>\n",
       "    <tr>\n",
       "      <th>3</th>\n",
       "      <td>15.945033</td>\n",
       "      <td>0.954980</td>\n",
       "      <td>0.851433</td>\n",
       "      <td>15.227194</td>\n",
       "    </tr>\n",
       "    <tr>\n",
       "      <th>4</th>\n",
       "      <td>0.212881</td>\n",
       "      <td>6.480436</td>\n",
       "      <td>1.037132</td>\n",
       "      <td>1.379563</td>\n",
=======
       "      <td>0.925716</td>\n",
       "      <td>0.398932</td>\n",
       "      <td>1.082050</td>\n",
       "      <td>0.369298</td>\n",
       "    </tr>\n",
       "    <tr>\n",
       "      <th>1</th>\n",
       "      <td>0.802207</td>\n",
       "      <td>3.626936</td>\n",
       "      <td>0.670705</td>\n",
       "      <td>2.909555</td>\n",
       "    </tr>\n",
       "    <tr>\n",
       "      <th>2</th>\n",
       "      <td>0.732119</td>\n",
       "      <td>0.750042</td>\n",
       "      <td>0.468995</td>\n",
       "      <td>0.549120</td>\n",
       "    </tr>\n",
       "    <tr>\n",
       "      <th>3</th>\n",
       "      <td>0.937443</td>\n",
       "      <td>1.044190</td>\n",
       "      <td>9.256028</td>\n",
       "      <td>0.978869</td>\n",
       "    </tr>\n",
       "    <tr>\n",
       "      <th>4</th>\n",
       "      <td>0.423346</td>\n",
       "      <td>0.178162</td>\n",
       "      <td>4.552800</td>\n",
       "      <td>0.075424</td>\n",
>>>>>>> test
       "    </tr>\n",
       "  </tbody>\n",
       "</table>\n",
       "</div>"
      ],
      "text/plain": [
<<<<<<< HEAD
       "           A         B         C          D\n",
       "0   0.787967  0.340196  0.179449   0.268063\n",
       "1   0.303316  0.288035  1.198626   0.087366\n",
       "2   0.443635  1.991368  3.813744   0.883440\n",
       "3  15.945033  0.954980  0.851433  15.227194\n",
       "4   0.212881  6.480436  1.037132   1.379563"
=======
       "          A         B         C         D\n",
       "0  0.925716  0.398932  1.082050  0.369298\n",
       "1  0.802207  3.626936  0.670705  2.909555\n",
       "2  0.732119  0.750042  0.468995  0.549120\n",
       "3  0.937443  1.044190  9.256028  0.978869\n",
       "4  0.423346  0.178162  4.552800  0.075424"
>>>>>>> test
      ]
     },
     "execution_count": 3,
     "metadata": {},
     "output_type": "execute_result"
    }
   ],
   "source": [
    "df = pd.DataFrame(columns=['A', 'B', 'C'])\n",
    "\n",
    "for col in df.columns:\n",
    "    df[col] = np.random.lognormal(size=1000)\n",
    "\n",
    "df['D'] = df['A'] * df['B']\n",
    "\n",
    "df.head()"
   ]
  },
  {
   "cell_type": "markdown",
   "metadata": {},
   "source": [
    "## Taking the log"
   ]
  },
  {
   "cell_type": "code",
   "execution_count": 4,
   "metadata": {},
   "outputs": [
    {
     "data": {
      "text/html": [
       "<div>\n",
       "<style scoped>\n",
       "    .dataframe tbody tr th:only-of-type {\n",
       "        vertical-align: middle;\n",
       "    }\n",
       "\n",
       "    .dataframe tbody tr th {\n",
       "        vertical-align: top;\n",
       "    }\n",
       "\n",
       "    .dataframe thead th {\n",
       "        text-align: right;\n",
       "    }\n",
       "</style>\n",
       "<table border=\"1\" class=\"dataframe\">\n",
       "  <thead>\n",
       "    <tr style=\"text-align: right;\">\n",
       "      <th></th>\n",
       "      <th>A</th>\n",
       "      <th>B</th>\n",
       "      <th>C</th>\n",
       "      <th>D</th>\n",
       "    </tr>\n",
       "  </thead>\n",
       "  <tbody>\n",
       "    <tr>\n",
       "      <th>0</th>\n",
<<<<<<< HEAD
       "      <td>-0.238300</td>\n",
       "      <td>-1.078234</td>\n",
       "      <td>-1.717863</td>\n",
       "      <td>-1.316534</td>\n",
       "    </tr>\n",
       "    <tr>\n",
       "      <th>1</th>\n",
       "      <td>-1.192978</td>\n",
       "      <td>-1.244672</td>\n",
       "      <td>0.181176</td>\n",
       "      <td>-2.437650</td>\n",
       "    </tr>\n",
       "    <tr>\n",
       "      <th>2</th>\n",
       "      <td>-0.812754</td>\n",
       "      <td>0.688822</td>\n",
       "      <td>1.338611</td>\n",
       "      <td>-0.123932</td>\n",
       "    </tr>\n",
       "    <tr>\n",
       "      <th>3</th>\n",
       "      <td>2.769147</td>\n",
       "      <td>-0.046065</td>\n",
       "      <td>-0.160835</td>\n",
       "      <td>2.723083</td>\n",
       "    </tr>\n",
       "    <tr>\n",
       "      <th>4</th>\n",
       "      <td>-1.547021</td>\n",
       "      <td>1.868788</td>\n",
       "      <td>0.036459</td>\n",
       "      <td>0.321767</td>\n",
=======
       "      <td>-0.077188</td>\n",
       "      <td>-0.918965</td>\n",
       "      <td>0.078857</td>\n",
       "      <td>-0.996153</td>\n",
       "    </tr>\n",
       "    <tr>\n",
       "      <th>1</th>\n",
       "      <td>-0.220388</td>\n",
       "      <td>1.288388</td>\n",
       "      <td>-0.399426</td>\n",
       "      <td>1.068000</td>\n",
       "    </tr>\n",
       "    <tr>\n",
       "      <th>2</th>\n",
       "      <td>-0.311812</td>\n",
       "      <td>-0.287626</td>\n",
       "      <td>-0.757164</td>\n",
       "      <td>-0.599438</td>\n",
       "    </tr>\n",
       "    <tr>\n",
       "      <th>3</th>\n",
       "      <td>-0.064600</td>\n",
       "      <td>0.043242</td>\n",
       "      <td>2.225275</td>\n",
       "      <td>-0.021358</td>\n",
       "    </tr>\n",
       "    <tr>\n",
       "      <th>4</th>\n",
       "      <td>-0.859567</td>\n",
       "      <td>-1.725064</td>\n",
       "      <td>1.515742</td>\n",
       "      <td>-2.584631</td>\n",
>>>>>>> test
       "    </tr>\n",
       "  </tbody>\n",
       "</table>\n",
       "</div>"
      ],
      "text/plain": [
       "          A         B         C         D\n",
<<<<<<< HEAD
       "0 -0.238300 -1.078234 -1.717863 -1.316534\n",
       "1 -1.192978 -1.244672  0.181176 -2.437650\n",
       "2 -0.812754  0.688822  1.338611 -0.123932\n",
       "3  2.769147 -0.046065 -0.160835  2.723083\n",
       "4 -1.547021  1.868788  0.036459  0.321767"
=======
       "0 -0.077188 -0.918965  0.078857 -0.996153\n",
       "1 -0.220388  1.288388 -0.399426  1.068000\n",
       "2 -0.311812 -0.287626 -0.757164 -0.599438\n",
       "3 -0.064600  0.043242  2.225275 -0.021358\n",
       "4 -0.859567 -1.725064  1.515742 -2.584631"
>>>>>>> test
      ]
     },
     "execution_count": 4,
     "metadata": {},
     "output_type": "execute_result"
    }
   ],
   "source": [
    "df_mod = np.log(df)\n",
    "\n",
    "df_mod.head()"
   ]
  },
  {
   "cell_type": "markdown",
   "metadata": {},
   "source": [
    "## Multiplying"
   ]
  },
  {
   "cell_type": "code",
   "execution_count": 5,
   "metadata": {},
   "outputs": [
    {
     "data": {
      "text/html": [
       "<div>\n",
       "<style scoped>\n",
       "    .dataframe tbody tr th:only-of-type {\n",
       "        vertical-align: middle;\n",
       "    }\n",
       "\n",
       "    .dataframe tbody tr th {\n",
       "        vertical-align: top;\n",
       "    }\n",
       "\n",
       "    .dataframe thead th {\n",
       "        text-align: right;\n",
       "    }\n",
       "</style>\n",
       "<table border=\"1\" class=\"dataframe\">\n",
       "  <thead>\n",
       "    <tr style=\"text-align: right;\">\n",
       "      <th></th>\n",
       "      <th>A</th>\n",
       "      <th>B</th>\n",
       "      <th>C</th>\n",
       "      <th>D</th>\n",
       "    </tr>\n",
       "  </thead>\n",
       "  <tbody>\n",
       "    <tr>\n",
       "      <th>0</th>\n",
       "      <td>-0.476599</td>\n",
       "      <td>-2.156468</td>\n",
       "      <td>-3.435725</td>\n",
       "      <td>-2.633067</td>\n",
       "    </tr>\n",
       "    <tr>\n",
       "      <th>1</th>\n",
       "      <td>-2.385957</td>\n",
       "      <td>-2.489344</td>\n",
       "      <td>0.362352</td>\n",
       "      <td>-4.875301</td>\n",
       "    </tr>\n",
       "    <tr>\n",
       "      <th>2</th>\n",
       "      <td>-1.625508</td>\n",
       "      <td>1.377644</td>\n",
       "      <td>2.677223</td>\n",
       "      <td>-0.247864</td>\n",
       "    </tr>\n",
       "    <tr>\n",
       "      <th>3</th>\n",
       "      <td>5.538295</td>\n",
       "      <td>-0.092129</td>\n",
       "      <td>-0.321669</td>\n",
       "      <td>5.446166</td>\n",
       "    </tr>\n",
       "    <tr>\n",
       "      <th>4</th>\n",
       "      <td>-3.094042</td>\n",
       "      <td>3.737576</td>\n",
       "      <td>0.072918</td>\n",
       "      <td>0.643534</td>\n",
       "    </tr>\n",
       "  </tbody>\n",
       "</table>\n",
       "</div>"
      ],
      "text/plain": [
       "          A         B         C         D\n",
       "0 -0.476599 -2.156468 -3.435725 -2.633067\n",
       "1 -2.385957 -2.489344  0.362352 -4.875301\n",
       "2 -1.625508  1.377644  2.677223 -0.247864\n",
       "3  5.538295 -0.092129 -0.321669  5.446166\n",
       "4 -3.094042  3.737576  0.072918  0.643534"
      ]
     },
     "execution_count": 5,
     "metadata": {},
     "output_type": "execute_result"
    }
   ],
   "source": [
    "df_mult = df_mod * 2\n",
    "df_mult.head()"
   ]
  },
  {
   "cell_type": "markdown",
   "metadata": {},
   "source": [
    "## Plotting the results"
   ]
  },
  {
   "cell_type": "code",
<<<<<<< HEAD
   "execution_count": 6,
=======
   "execution_count": 5,
>>>>>>> test
   "metadata": {},
   "outputs": [
    {
     "data": {
<<<<<<< HEAD
      "image/png": "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\n",
=======
      "image/png": "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\n",
>>>>>>> test
      "text/plain": [
       "<Figure size 432x288 with 1 Axes>"
      ]
     },
     "metadata": {
      "needs_background": "light"
     },
     "output_type": "display_data"
    }
   ],
   "source": [
    "plt.scatter(df_mult['C'], df_mult['D'])\n",
    "plt.xlabel('C')\n",
    "plt.ylabel('D')\n",
    "plt.title('Example Scatter Plot')\n",
    "plt.show()"
   ]
  },
  {
   "cell_type": "code",
   "execution_count": 8,
   "metadata": {},
   "outputs": [
    {
     "data": {
      "image/png": "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\n",
      "text/plain": [
       "<Figure size 432x288 with 1 Axes>"
      ]
     },
     "metadata": {
      "needs_background": "light"
     },
     "output_type": "display_data"
    }
   ],
   "source": [
    "plt.hist(df_mod['D'])\n",
    "plt.xlabel('D')\n",
    "plt.title('Example Histogram')\n",
    "plt.show()"
   ]
  },
  {
   "cell_type": "code",
   "execution_count": null,
   "metadata": {},
   "outputs": [],
   "source": []
  }
 ],
 "metadata": {
  "kernelspec": {
   "display_name": "Python 3",
   "language": "python",
   "name": "python3"
  },
  "language_info": {
   "codemirror_mode": {
    "name": "ipython",
    "version": 3
   },
   "file_extension": ".py",
   "mimetype": "text/x-python",
   "name": "python",
   "nbconvert_exporter": "python",
   "pygments_lexer": "ipython3",
   "version": "3.7.1"
  },
  "toc": {
   "base_numbering": 1,
   "nav_menu": {},
   "number_sections": true,
   "sideBar": true,
   "skip_h1_title": true,
   "title_cell": "Table of Contents",
   "title_sidebar": "Contents",
   "toc_cell": false,
   "toc_position": {},
   "toc_section_display": true,
   "toc_window_display": true
  },
  "varInspector": {
   "cols": {
    "lenName": 16,
    "lenType": 16,
    "lenVar": 40
   },
   "kernels_config": {
    "python": {
     "delete_cmd_postfix": "",
     "delete_cmd_prefix": "del ",
     "library": "var_list.py",
     "varRefreshCmd": "print(var_dic_list())"
    },
    "r": {
     "delete_cmd_postfix": ") ",
     "delete_cmd_prefix": "rm(",
     "library": "var_list.r",
     "varRefreshCmd": "cat(var_dic_list()) "
    }
   },
   "types_to_exclude": [
    "module",
    "function",
    "builtin_function_or_method",
    "instance",
    "_Feature"
   ],
   "window_display": false
  }
 },
 "nbformat": 4,
 "nbformat_minor": 2
}
